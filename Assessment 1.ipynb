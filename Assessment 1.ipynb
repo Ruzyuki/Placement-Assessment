{
 "cells": [
  {
   "cell_type": "markdown",
   "id": "96e7f3a2",
   "metadata": {},
   "source": [
    "# Assignment 1 (11/06/2022)"
   ]
  },
  {
   "cell_type": "markdown",
   "id": "9562a6b4",
   "metadata": {},
   "source": [
    " Q1"
   ]
  },
  {
   "cell_type": "code",
   "execution_count": 12,
   "id": "adb87d1e",
   "metadata": {},
   "outputs": [],
   "source": [
    "def function1():\n",
    "    x=\"placement\"\n",
    "    y=\"screening\"\n",
    "    f = open(\"example.txt\",\"r+\")\n",
    "    l = f.readlines()\n",
    "    \n",
    "    for i in l:\n",
    "        if x in i:\n",
    "            pk = i.replace(x,y)\n",
    "        l = pk\n",
    "    f.truncate(0)\n",
    "    f.writelines(l)\n",
    "    f.close()\n",
    "    print(\"File successfully replaced\")"
   ]
  },
  {
   "cell_type": "code",
   "execution_count": 13,
   "id": "4dc46d4c",
   "metadata": {},
   "outputs": [
    {
     "name": "stdout",
     "output_type": "stream",
     "text": [
      "File successfully replaced\n"
     ]
    }
   ],
   "source": [
    "function1()"
   ]
  },
  {
   "cell_type": "code",
   "execution_count": null,
   "id": "1a334887",
   "metadata": {},
   "outputs": [],
   "source": []
  },
  {
   "cell_type": "code",
   "execution_count": null,
   "id": "3b3e7e95",
   "metadata": {},
   "outputs": [],
   "source": []
  },
  {
   "cell_type": "code",
   "execution_count": null,
   "id": "4c66c97b",
   "metadata": {},
   "outputs": [],
   "source": []
  },
  {
   "cell_type": "markdown",
   "id": "3febb45b",
   "metadata": {},
   "source": [
    "# Q2 Demonstrate use of abstract class, multiple inheritance and decorator in python using examples."
   ]
  },
  {
   "cell_type": "markdown",
   "id": "2164cf15",
   "metadata": {},
   "source": [
    "Ans :-"
   ]
  },
  {
   "cell_type": "markdown",
   "id": "bc808b91",
   "metadata": {},
   "source": [
    " Abstract class"
   ]
  },
  {
   "cell_type": "markdown",
   "id": "08bd183b",
   "metadata": {},
   "source": [
    "An abstract class can be considered as a blueprint for other classes. It allows us to create a set of methods that must be \n",
    "created within any child classes built from the abstract class. A class which contains one or more abstract methods is called \n",
    "an abstract class. An abstract method is a method that has a declaration but does not have an implementation. While we are \n",
    "designing large functional units we use an abstract class. When we want to provide a common interface for different \n",
    "implementations of a component, we use an abstract class. \n",
    "\n",
    "By default, Python does not provide abstract classes. Python comes with a module that provides the base for defining Abstract Base classes(ABC) and that module name is ABC. ABC works by decorating methods of the base class as abstract and then registering concrete classes as implementations of the abstract base. A method becomes abstract when decorated with the keyword @abstractmethod. "
   ]
  },
  {
   "cell_type": "markdown",
   "id": "bd4d94d3",
   "metadata": {},
   "source": [
    "Example: "
   ]
  },
  {
   "cell_type": "code",
   "execution_count": 15,
   "id": "4725a850",
   "metadata": {},
   "outputs": [
    {
     "name": "stdout",
     "output_type": "stream",
     "text": [
      "I have 3 sides\n",
      "I have 6 sides\n"
     ]
    }
   ],
   "source": [
    "# Python program showing\n",
    "# abstract base class work\n",
    "\n",
    "from abc import ABC, abstractmethod\n",
    "\n",
    "class Polygon(ABC):\n",
    "\n",
    "    @abstractmethod\n",
    "    def noofsides(self):\n",
    "        pass\n",
    "\n",
    "class Triangle(Polygon):\n",
    "\n",
    "    # overriding abstract method\n",
    "    def noofsides(self):\n",
    "        print(\"I have 3 sides\")\n",
    "\n",
    "class Pentagon(Polygon):\n",
    "\n",
    "    # overriding abstract method\n",
    "    def noofsides(self):\n",
    "        print(\"I have 5 sides\")\n",
    "\n",
    "class Hexagon(Polygon):\n",
    "\n",
    "    # overriding abstract method\n",
    "    def noofsides(self):\n",
    "        print(\"I have 6 sides\")\n",
    "\n",
    "class Quadrilateral(Polygon):\n",
    "\n",
    "    # overriding abstract method\n",
    "    def noofsides(self):\n",
    "        print(\"I have 4 sides\")\n",
    "\n",
    "\n",
    "        \n",
    "# Driver code\n",
    "R = Triangle()\n",
    "R.noofsides()\n",
    "\n",
    "K = Hexagon()\n",
    "K.noofsides()\n"
   ]
  },
  {
   "cell_type": "markdown",
   "id": "2d76c83e",
   "metadata": {},
   "source": [
    "               \n",
    "               \n",
    "               \n",
    "               \n",
    "               \n",
    "               \n",
    "               \n",
    "               "
   ]
  },
  {
   "cell_type": "markdown",
   "id": "a6838e5a",
   "metadata": {},
   "source": [
    "Decorator"
   ]
  },
  {
   "cell_type": "markdown",
   "id": "dccb7fdc",
   "metadata": {},
   "source": [
    "Decorators in Python allows us to modify the behaviour of a function or class. Decorators allow us to wrap another function in\n",
    "order to extend the behaviour of the wrapped function, without permanently modifying it. \n",
    "Decorators are used to modify the behaviour of function or class. In Decorators, functions are taken as the argument into \n",
    "another function and then called inside the wrapper function.."
   ]
  },
  {
   "cell_type": "markdown",
   "id": "cf8937df",
   "metadata": {},
   "source": [
    "Example:"
   ]
  },
  {
   "cell_type": "code",
   "execution_count": 16,
   "id": "52763aa0",
   "metadata": {},
   "outputs": [
    {
     "name": "stdout",
     "output_type": "stream",
     "text": [
      "Hello, this is before function execution\n",
      "This is inside the function !!\n",
      "This is after function execution\n"
     ]
    }
   ],
   "source": [
    "# defining a decorator\n",
    "def hello_decorator(func):\n",
    "\n",
    "    # inner1 is a Wrapper function in\n",
    "    # which the argument is called\n",
    "    \n",
    "    # inner function can access the outer local\n",
    "    # functions like in this case \"func\"\n",
    "    def inner1():\n",
    "        print(\"Hello, this is before function execution\")\n",
    "\n",
    "        # calling the actual function now\n",
    "        # inside the wrapper function.\n",
    "        func()\n",
    "\n",
    "        print(\"This is after function execution\")\n",
    "\n",
    "    return inner1\n",
    "\n",
    "\n",
    "# defining a function, to be called inside wrapper\n",
    "def function_to_be_used():\n",
    "    print(\"This is inside the function !!\")\n",
    "\n",
    "\n",
    "# passing 'function_to_be_used' inside the\n",
    "# decorator to control its behaviour\n",
    "function_to_be_used = hello_decorator(function_to_be_used)\n",
    "\n",
    "\n",
    "# calling the function\n",
    "function_to_be_used()\n"
   ]
  },
  {
   "cell_type": "markdown",
   "id": "36c6eb4a",
   "metadata": {},
   "source": [
    "\n",
    "\n",
    "\n",
    "\n",
    "\n",
    "\n",
    "\n",
    "\n",
    "\n"
   ]
  },
  {
   "cell_type": "markdown",
   "id": "64b01cca",
   "metadata": {},
   "source": [
    "Multiple Inheritance "
   ]
  },
  {
   "cell_type": "markdown",
   "id": "8e3df9f1",
   "metadata": {},
   "source": [
    "Inheritance is the mechanism to achieve the re-usability of code as one class(child class) can derive the properties of another \n",
    "class(parent class). It also provides transitivity ie. if class C inherits from P then all the sub-classes of C would also \n",
    "inherit from P. When a class is derived from more than one base class it is called multiple Inheritance. The derived class inherits all the features of the base case."
   ]
  },
  {
   "cell_type": "code",
   "execution_count": 18,
   "id": "f2cc70ed",
   "metadata": {},
   "outputs": [
    {
     "name": "stdout",
     "output_type": "stream",
     "text": [
      "Father Enjoys Driving\n",
      "Mother Enjoys Cooking\n",
      "Child Loves Playing\n"
     ]
    }
   ],
   "source": [
    "# Multiple Inheritance using two classes:\n",
    "\n",
    "class Father():\n",
    "    def Driving(self):\n",
    "        print(\"Father Enjoys Driving\")\n",
    "class Mother():\n",
    "    def Cooking(self):\n",
    "        print(\"Mother Enjoys Cooking\")\n",
    "class Child(Father, Mother):\n",
    "    def Playing(self):\n",
    "        print(\"Child Loves Playing\")\n",
    "c = Child()\n",
    "c.Driving()\n",
    "c.Cooking()\n",
    "c.Playing()"
   ]
  },
  {
   "cell_type": "markdown",
   "id": "9a11cae4",
   "metadata": {},
   "source": [
    "Explanation of code:\n",
    "\n",
    "Here, the father and Mother are the Base classes where we have two print statements and a child class that contains all the methods of the father and mother class.\n",
    "\n",
    "The child class is also known as Derived class.\n",
    "\n",
    "We are creating the object for the child class through which we can access the functions of father, mother, and child."
   ]
  }
 ],
 "metadata": {
  "kernelspec": {
   "display_name": "Python 3 (ipykernel)",
   "language": "python",
   "name": "python3"
  },
  "language_info": {
   "codemirror_mode": {
    "name": "ipython",
    "version": 3
   },
   "file_extension": ".py",
   "mimetype": "text/x-python",
   "name": "python",
   "nbconvert_exporter": "python",
   "pygments_lexer": "ipython3",
   "version": "3.9.7"
  }
 },
 "nbformat": 4,
 "nbformat_minor": 5
}
